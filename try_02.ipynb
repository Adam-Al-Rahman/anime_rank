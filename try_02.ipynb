{
 "cells": [
  {
   "cell_type": "code",
   "execution_count": 1,
   "metadata": {},
   "outputs": [],
   "source": [
    "from library import pd_read_csv, pd_dataframe,  pd_eval, pd_get_dummies\n",
    "from library import sk_shuffle, sk_train_test_split, sk_logistic_regression\n",
    "from core import rr_display, rr_unique, rr_encoding, rr_to_series"
   ]
  },
  {
   "cell_type": "code",
   "execution_count": 2,
   "metadata": {},
   "outputs": [],
   "source": [
    "# Import the update dataset\n",
    "rr_anime_dataset = pd_read_csv(\"dataset/rr_anime_info.csv\", converters={'Genres': pd_eval, 'Studio': pd_eval})"
   ]
  },
  {
   "cell_type": "code",
   "execution_count": null,
   "metadata": {},
   "outputs": [],
   "source": [
    "rr_anime_dataset[\"Genres\"]"
   ]
  }
 ],
 "metadata": {
  "kernelspec": {
   "display_name": "Python 3.9.12 ('machine_learning')",
   "language": "python",
   "name": "python3"
  },
  "language_info": {
   "codemirror_mode": {
    "name": "ipython",
    "version": 3
   },
   "file_extension": ".py",
   "mimetype": "text/x-python",
   "name": "python",
   "nbconvert_exporter": "python",
   "pygments_lexer": "ipython3",
   "version": "3.9.12"
  },
  "orig_nbformat": 4,
  "vscode": {
   "interpreter": {
    "hash": "61d95806a7e6da8dc71ce3f9a9b6b391095a6693cc17cd96f863d0f930c5de41"
   }
  }
 },
 "nbformat": 4,
 "nbformat_minor": 2
}
