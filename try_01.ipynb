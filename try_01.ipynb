{
 "cells": [
  {
   "cell_type": "code",
   "execution_count": 1,
   "metadata": {},
   "outputs": [],
   "source": [
    "from library import pd_read_csv, pd_dataframe,  pd_eval, pd_get_dummies\n",
    "from library import sk_shuffle, sk_train_test_split, sk_logistic_regression\n",
    "from core import rr_display\n"
   ]
  },
  {
   "cell_type": "code",
   "execution_count": 2,
   "metadata": {},
   "outputs": [],
   "source": [
    "rr_anime_dataset = pd_read_csv(\"dataset/rr_anime_info.csv\", converters={'Genres': pd_eval, 'Studio': pd_eval})\n",
    "rr_anime_dataset = rr_anime_dataset.drop(\"Name\", axis=1)\n",
    "rr_anime_dataset['Type'] = rr_anime_dataset['Type'].astype('category').cat.codes"
   ]
  },
  {
   "cell_type": "code",
   "execution_count": 3,
   "metadata": {},
   "outputs": [
    {
     "data": {
      "text/html": [
       "<style type=\"text/css\">\n",
       "#T_20a5b th {\n",
       "  text-align: left;\n",
       "}\n",
       "#T_20a5b_row0_col0, #T_20a5b_row0_col1, #T_20a5b_row0_col2, #T_20a5b_row0_col3, #T_20a5b_row0_col4, #T_20a5b_row0_col5, #T_20a5b_row0_col6, #T_20a5b_row1_col0, #T_20a5b_row1_col1, #T_20a5b_row1_col2, #T_20a5b_row1_col3, #T_20a5b_row1_col4, #T_20a5b_row1_col5, #T_20a5b_row1_col6, #T_20a5b_row2_col0, #T_20a5b_row2_col1, #T_20a5b_row2_col2, #T_20a5b_row2_col3, #T_20a5b_row2_col4, #T_20a5b_row2_col5, #T_20a5b_row2_col6, #T_20a5b_row3_col0, #T_20a5b_row3_col1, #T_20a5b_row3_col2, #T_20a5b_row3_col3, #T_20a5b_row3_col4, #T_20a5b_row3_col5, #T_20a5b_row3_col6, #T_20a5b_row4_col0, #T_20a5b_row4_col1, #T_20a5b_row4_col2, #T_20a5b_row4_col3, #T_20a5b_row4_col4, #T_20a5b_row4_col5, #T_20a5b_row4_col6 {\n",
       "  text-align: left;\n",
       "}\n",
       "</style>\n",
       "<table id=\"T_20a5b\">\n",
       "  <thead>\n",
       "    <tr>\n",
       "      <th class=\"blank level0\" >&nbsp;</th>\n",
       "      <th id=\"T_20a5b_level0_col0\" class=\"col_heading level0 col0\" >Genres</th>\n",
       "      <th id=\"T_20a5b_level0_col1\" class=\"col_heading level0 col1\" >Studio</th>\n",
       "      <th id=\"T_20a5b_level0_col2\" class=\"col_heading level0 col2\" >Type</th>\n",
       "      <th id=\"T_20a5b_level0_col3\" class=\"col_heading level0 col3\" >Score</th>\n",
       "      <th id=\"T_20a5b_level0_col4\" class=\"col_heading level0 col4\" >Score Rank</th>\n",
       "      <th id=\"T_20a5b_level0_col5\" class=\"col_heading level0 col5\" >Num. of episodes</th>\n",
       "      <th id=\"T_20a5b_level0_col6\" class=\"col_heading level0 col6\" >Popularity Rank</th>\n",
       "    </tr>\n",
       "  </thead>\n",
       "  <tbody>\n",
       "    <tr>\n",
       "      <th id=\"T_20a5b_level0_row0\" class=\"row_heading level0 row0\" >0</th>\n",
       "      <td id=\"T_20a5b_row0_col0\" class=\"data row0 col0\" >['action', 'adventure', 'drama', 'fantasy']</td>\n",
       "      <td id=\"T_20a5b_row0_col1\" class=\"data row0 col1\" >['bones']</td>\n",
       "      <td id=\"T_20a5b_row0_col2\" class=\"data row0 col2\" >5</td>\n",
       "      <td id=\"T_20a5b_row0_col3\" class=\"data row0 col3\" >9.140000</td>\n",
       "      <td id=\"T_20a5b_row0_col4\" class=\"data row0 col4\" >1</td>\n",
       "      <td id=\"T_20a5b_row0_col5\" class=\"data row0 col5\" >64</td>\n",
       "      <td id=\"T_20a5b_row0_col6\" class=\"data row0 col6\" >3</td>\n",
       "    </tr>\n",
       "    <tr>\n",
       "      <th id=\"T_20a5b_level0_row1\" class=\"row_heading level0 row1\" >1</th>\n",
       "      <td id=\"T_20a5b_row1_col0\" class=\"data row1 col0\" >['action', 'comedy']</td>\n",
       "      <td id=\"T_20a5b_row1_col1\" class=\"data row1 col1\" >['wit studio', 'cloverworks']</td>\n",
       "      <td id=\"T_20a5b_row1_col2\" class=\"data row1 col2\" >5</td>\n",
       "      <td id=\"T_20a5b_row1_col3\" class=\"data row1 col3\" >9.090000</td>\n",
       "      <td id=\"T_20a5b_row1_col4\" class=\"data row1 col4\" >2</td>\n",
       "      <td id=\"T_20a5b_row1_col5\" class=\"data row1 col5\" >12</td>\n",
       "      <td id=\"T_20a5b_row1_col6\" class=\"data row1 col6\" >350</td>\n",
       "    </tr>\n",
       "    <tr>\n",
       "      <th id=\"T_20a5b_level0_row2\" class=\"row_heading level0 row2\" >2</th>\n",
       "      <td id=\"T_20a5b_row2_col0\" class=\"data row2 col0\" >['action', 'drama']</td>\n",
       "      <td id=\"T_20a5b_row2_col1\" class=\"data row2 col1\" >['wit studio']</td>\n",
       "      <td id=\"T_20a5b_row2_col2\" class=\"data row2 col2\" >5</td>\n",
       "      <td id=\"T_20a5b_row2_col3\" class=\"data row2 col3\" >9.080000</td>\n",
       "      <td id=\"T_20a5b_row2_col4\" class=\"data row2 col4\" >3</td>\n",
       "      <td id=\"T_20a5b_row2_col5\" class=\"data row2 col5\" >10</td>\n",
       "      <td id=\"T_20a5b_row2_col6\" class=\"data row2 col6\" >32</td>\n",
       "    </tr>\n",
       "    <tr>\n",
       "      <th id=\"T_20a5b_level0_row3\" class=\"row_heading level0 row3\" >3</th>\n",
       "      <td id=\"T_20a5b_row3_col0\" class=\"data row3 col0\" >['drama', 'sci-fi', 'suspense']</td>\n",
       "      <td id=\"T_20a5b_row3_col1\" class=\"data row3 col1\" >['white fox']</td>\n",
       "      <td id=\"T_20a5b_row3_col2\" class=\"data row3 col2\" >5</td>\n",
       "      <td id=\"T_20a5b_row3_col3\" class=\"data row3 col3\" >9.080000</td>\n",
       "      <td id=\"T_20a5b_row3_col4\" class=\"data row3 col4\" >4</td>\n",
       "      <td id=\"T_20a5b_row3_col5\" class=\"data row3 col5\" >24</td>\n",
       "      <td id=\"T_20a5b_row3_col6\" class=\"data row3 col6\" >13</td>\n",
       "    </tr>\n",
       "    <tr>\n",
       "      <th id=\"T_20a5b_level0_row4\" class=\"row_heading level0 row4\" >4</th>\n",
       "      <td id=\"T_20a5b_row4_col0\" class=\"data row4 col0\" >['action', 'comedy', 'sci-fi']</td>\n",
       "      <td id=\"T_20a5b_row4_col1\" class=\"data row4 col1\" >['bandai namco pictures']</td>\n",
       "      <td id=\"T_20a5b_row4_col2\" class=\"data row4 col2\" >5</td>\n",
       "      <td id=\"T_20a5b_row4_col3\" class=\"data row4 col3\" >9.080000</td>\n",
       "      <td id=\"T_20a5b_row4_col4\" class=\"data row4 col4\" >5</td>\n",
       "      <td id=\"T_20a5b_row4_col5\" class=\"data row4 col5\" >51</td>\n",
       "      <td id=\"T_20a5b_row4_col6\" class=\"data row4 col6\" >335</td>\n",
       "    </tr>\n",
       "  </tbody>\n",
       "</table>\n"
      ],
      "text/plain": [
       "<pandas.io.formats.style.Styler at 0x7f742b5e7ca0>"
      ]
     },
     "metadata": {},
     "output_type": "display_data"
    }
   ],
   "source": [
    "rr_display(rr_anime_dataset.head())"
   ]
  },
  {
   "cell_type": "code",
   "execution_count": 4,
   "metadata": {},
   "outputs": [],
   "source": [
    "X = pd_dataframe(rr_anime_dataset[\"Score Rank\"])\n",
    "y = rr_anime_dataset[\"Popularity Rank\"]"
   ]
  },
  {
   "cell_type": "code",
   "execution_count": 5,
   "metadata": {},
   "outputs": [],
   "source": [
    "X_train, X_test, y_train, y_test = sk_train_test_split(X, y, test_size=0.25, random_state=7)"
   ]
  },
  {
   "cell_type": "code",
   "execution_count": 6,
   "metadata": {},
   "outputs": [
    {
     "data": {
      "text/html": [
       "<div>\n",
       "<style scoped>\n",
       "    .dataframe tbody tr th:only-of-type {\n",
       "        vertical-align: middle;\n",
       "    }\n",
       "\n",
       "    .dataframe tbody tr th {\n",
       "        vertical-align: top;\n",
       "    }\n",
       "\n",
       "    .dataframe thead th {\n",
       "        text-align: right;\n",
       "    }\n",
       "</style>\n",
       "<table border=\"1\" class=\"dataframe\">\n",
       "  <thead>\n",
       "    <tr style=\"text-align: right;\">\n",
       "      <th></th>\n",
       "      <th>Score Rank</th>\n",
       "    </tr>\n",
       "  </thead>\n",
       "  <tbody>\n",
       "    <tr>\n",
       "      <th>142</th>\n",
       "      <td>146</td>\n",
       "    </tr>\n",
       "    <tr>\n",
       "      <th>228</th>\n",
       "      <td>236</td>\n",
       "    </tr>\n",
       "    <tr>\n",
       "      <th>213</th>\n",
       "      <td>220</td>\n",
       "    </tr>\n",
       "    <tr>\n",
       "      <th>1511</th>\n",
       "      <td>1578</td>\n",
       "    </tr>\n",
       "    <tr>\n",
       "      <th>1701</th>\n",
       "      <td>1784</td>\n",
       "    </tr>\n",
       "  </tbody>\n",
       "</table>\n",
       "</div>"
      ],
      "text/plain": [
       "      Score Rank\n",
       "142          146\n",
       "228          236\n",
       "213          220\n",
       "1511        1578\n",
       "1701        1784"
      ]
     },
     "execution_count": 6,
     "metadata": {},
     "output_type": "execute_result"
    }
   ],
   "source": [
    "X_train.head()"
   ]
  },
  {
   "cell_type": "code",
   "execution_count": 7,
   "metadata": {},
   "outputs": [
    {
     "name": "stderr",
     "output_type": "stream",
     "text": [
      "/home/adamalrahman/miniconda3/envs/machine_learning/lib/python3.9/site-packages/sklearn/linear_model/_logistic.py:444: ConvergenceWarning: lbfgs failed to converge (status=1):\n",
      "STOP: TOTAL NO. of ITERATIONS REACHED LIMIT.\n",
      "\n",
      "Increase the number of iterations (max_iter) or scale the data as shown in:\n",
      "    https://scikit-learn.org/stable/modules/preprocessing.html\n",
      "Please also refer to the documentation for alternative solver options:\n",
      "    https://scikit-learn.org/stable/modules/linear_model.html#logistic-regression\n",
      "  n_iter_i = _check_optimize_result(\n"
     ]
    },
    {
     "data": {
      "text/html": [
       "<style>#sk-container-id-1 {color: black;background-color: white;}#sk-container-id-1 pre{padding: 0;}#sk-container-id-1 div.sk-toggleable {background-color: white;}#sk-container-id-1 label.sk-toggleable__label {cursor: pointer;display: block;width: 100%;margin-bottom: 0;padding: 0.3em;box-sizing: border-box;text-align: center;}#sk-container-id-1 label.sk-toggleable__label-arrow:before {content: \"▸\";float: left;margin-right: 0.25em;color: #696969;}#sk-container-id-1 label.sk-toggleable__label-arrow:hover:before {color: black;}#sk-container-id-1 div.sk-estimator:hover label.sk-toggleable__label-arrow:before {color: black;}#sk-container-id-1 div.sk-toggleable__content {max-height: 0;max-width: 0;overflow: hidden;text-align: left;background-color: #f0f8ff;}#sk-container-id-1 div.sk-toggleable__content pre {margin: 0.2em;color: black;border-radius: 0.25em;background-color: #f0f8ff;}#sk-container-id-1 input.sk-toggleable__control:checked~div.sk-toggleable__content {max-height: 200px;max-width: 100%;overflow: auto;}#sk-container-id-1 input.sk-toggleable__control:checked~label.sk-toggleable__label-arrow:before {content: \"▾\";}#sk-container-id-1 div.sk-estimator input.sk-toggleable__control:checked~label.sk-toggleable__label {background-color: #d4ebff;}#sk-container-id-1 div.sk-label input.sk-toggleable__control:checked~label.sk-toggleable__label {background-color: #d4ebff;}#sk-container-id-1 input.sk-hidden--visually {border: 0;clip: rect(1px 1px 1px 1px);clip: rect(1px, 1px, 1px, 1px);height: 1px;margin: -1px;overflow: hidden;padding: 0;position: absolute;width: 1px;}#sk-container-id-1 div.sk-estimator {font-family: monospace;background-color: #f0f8ff;border: 1px dotted black;border-radius: 0.25em;box-sizing: border-box;margin-bottom: 0.5em;}#sk-container-id-1 div.sk-estimator:hover {background-color: #d4ebff;}#sk-container-id-1 div.sk-parallel-item::after {content: \"\";width: 100%;border-bottom: 1px solid gray;flex-grow: 1;}#sk-container-id-1 div.sk-label:hover label.sk-toggleable__label {background-color: #d4ebff;}#sk-container-id-1 div.sk-serial::before {content: \"\";position: absolute;border-left: 1px solid gray;box-sizing: border-box;top: 0;bottom: 0;left: 50%;z-index: 0;}#sk-container-id-1 div.sk-serial {display: flex;flex-direction: column;align-items: center;background-color: white;padding-right: 0.2em;padding-left: 0.2em;position: relative;}#sk-container-id-1 div.sk-item {position: relative;z-index: 1;}#sk-container-id-1 div.sk-parallel {display: flex;align-items: stretch;justify-content: center;background-color: white;position: relative;}#sk-container-id-1 div.sk-item::before, #sk-container-id-1 div.sk-parallel-item::before {content: \"\";position: absolute;border-left: 1px solid gray;box-sizing: border-box;top: 0;bottom: 0;left: 50%;z-index: -1;}#sk-container-id-1 div.sk-parallel-item {display: flex;flex-direction: column;z-index: 1;position: relative;background-color: white;}#sk-container-id-1 div.sk-parallel-item:first-child::after {align-self: flex-end;width: 50%;}#sk-container-id-1 div.sk-parallel-item:last-child::after {align-self: flex-start;width: 50%;}#sk-container-id-1 div.sk-parallel-item:only-child::after {width: 0;}#sk-container-id-1 div.sk-dashed-wrapped {border: 1px dashed gray;margin: 0 0.4em 0.5em 0.4em;box-sizing: border-box;padding-bottom: 0.4em;background-color: white;}#sk-container-id-1 div.sk-label label {font-family: monospace;font-weight: bold;display: inline-block;line-height: 1.2em;}#sk-container-id-1 div.sk-label-container {text-align: center;}#sk-container-id-1 div.sk-container {/* jupyter's `normalize.less` sets `[hidden] { display: none; }` but bootstrap.min.css set `[hidden] { display: none !important; }` so we also need the `!important` here to be able to override the default hidden behavior on the sphinx rendered scikit-learn.org. See: https://github.com/scikit-learn/scikit-learn/issues/21755 */display: inline-block !important;position: relative;}#sk-container-id-1 div.sk-text-repr-fallback {display: none;}</style><div id=\"sk-container-id-1\" class=\"sk-top-container\"><div class=\"sk-text-repr-fallback\"><pre>LogisticRegression(max_iter=1500)</pre><b>In a Jupyter environment, please rerun this cell to show the HTML representation or trust the notebook. <br />On GitHub, the HTML representation is unable to render, please try loading this page with nbviewer.org.</b></div><div class=\"sk-container\" hidden><div class=\"sk-item\"><div class=\"sk-estimator sk-toggleable\"><input class=\"sk-toggleable__control sk-hidden--visually\" id=\"sk-estimator-id-1\" type=\"checkbox\" checked><label for=\"sk-estimator-id-1\" class=\"sk-toggleable__label sk-toggleable__label-arrow\">LogisticRegression</label><div class=\"sk-toggleable__content\"><pre>LogisticRegression(max_iter=1500)</pre></div></div></div></div></div>"
      ],
      "text/plain": [
       "LogisticRegression(max_iter=1500)"
      ]
     },
     "execution_count": 7,
     "metadata": {},
     "output_type": "execute_result"
    }
   ],
   "source": [
    "rr_model_01 = sk_logistic_regression(solver='lbfgs', max_iter=1500)\n",
    "rr_model_01.fit(X_train, y_train)"
   ]
  },
  {
   "cell_type": "code",
   "execution_count": 8,
   "metadata": {},
   "outputs": [
    {
     "data": {
      "text/plain": [
       "0.0"
      ]
     },
     "execution_count": 8,
     "metadata": {},
     "output_type": "execute_result"
    }
   ],
   "source": [
    "rr_model_01.score(X_test, y_test)"
   ]
  },
  {
   "cell_type": "code",
   "execution_count": null,
   "metadata": {},
   "outputs": [],
   "source": []
  }
 ],
 "metadata": {
  "kernelspec": {
   "display_name": "Python 3.9.12 ('machine_learning')",
   "language": "python",
   "name": "python3"
  },
  "language_info": {
   "codemirror_mode": {
    "name": "ipython",
    "version": 3
   },
   "file_extension": ".py",
   "mimetype": "text/x-python",
   "name": "python",
   "nbconvert_exporter": "python",
   "pygments_lexer": "ipython3",
   "version": "3.9.12"
  },
  "orig_nbformat": 4,
  "vscode": {
   "interpreter": {
    "hash": "61d95806a7e6da8dc71ce3f9a9b6b391095a6693cc17cd96f863d0f930c5de41"
   }
  }
 },
 "nbformat": 4,
 "nbformat_minor": 2
}
