{
 "cells": [
  {
   "cell_type": "markdown",
   "metadata": {},
   "source": [
    "### Import Libraries"
   ]
  },
  {
   "cell_type": "code",
   "execution_count": 1,
   "metadata": {},
   "outputs": [],
   "source": [
    "from library import pd_read_csv"
   ]
  },
  {
   "cell_type": "markdown",
   "metadata": {},
   "source": [
    "### Downloading Dataset"
   ]
  },
  {
   "cell_type": "code",
   "execution_count": 2,
   "metadata": {},
   "outputs": [
    {
     "name": "stdout",
     "output_type": "stream",
     "text": [
      "ref                                        title                       size  lastUpdated          downloadCount  voteCount  usabilityRating  \n",
      "-----------------------------------------  --------------------------  ----  -------------------  -------------  ---------  ---------------  \n",
      "brunobacelardc/myanimelist-top-1000-anime  MyAnimeList Top 2000 Anime  83KB  2022-04-25 04:25:11            751         32  1.0              \n"
     ]
    }
   ],
   "source": [
    "!kaggle datasets list -s myanimelist --user brunobacelardc"
   ]
  },
  {
   "cell_type": "code",
   "execution_count": 3,
   "metadata": {},
   "outputs": [
    {
     "name": "stdout",
     "output_type": "stream",
     "text": [
      "name                    size  creationDate         \n",
      "---------------------  -----  -------------------  \n",
      "mal_top2000_anime.csv  309KB  2022-04-25 04:25:11  \n"
     ]
    }
   ],
   "source": [
    "!kaggle datasets files brunobacelardc/myanimelist-top-1000-anime"
   ]
  },
  {
   "cell_type": "code",
   "execution_count": 4,
   "metadata": {},
   "outputs": [
    {
     "name": "stdout",
     "output_type": "stream",
     "text": [
      "mal_top2000_anime.csv: Skipping, found more recently modified local copy (use --force to force download)\n"
     ]
    }
   ],
   "source": [
    "!kaggle datasets download brunobacelardc/myanimelist-top-1000-anime -f mal_top2000_anime.csv -p dataset/"
   ]
  },
  {
   "cell_type": "markdown",
   "metadata": {},
   "source": [
    "### Import Dataset"
   ]
  },
  {
   "cell_type": "code",
   "execution_count": 5,
   "metadata": {},
   "outputs": [
    {
     "data": {
      "text/html": [
       "<div>\n",
       "<style scoped>\n",
       "    .dataframe tbody tr th:only-of-type {\n",
       "        vertical-align: middle;\n",
       "    }\n",
       "\n",
       "    .dataframe tbody tr th {\n",
       "        vertical-align: top;\n",
       "    }\n",
       "\n",
       "    .dataframe thead th {\n",
       "        text-align: right;\n",
       "    }\n",
       "</style>\n",
       "<table border=\"1\" class=\"dataframe\">\n",
       "  <thead>\n",
       "    <tr style=\"text-align: right;\">\n",
       "      <th></th>\n",
       "      <th>Unnamed: 0</th>\n",
       "      <th>Name</th>\n",
       "      <th>Type</th>\n",
       "      <th>Score</th>\n",
       "      <th>Score Rank</th>\n",
       "      <th>Popularity Rank</th>\n",
       "      <th>Air Date</th>\n",
       "      <th>Studio</th>\n",
       "      <th>Num. of episodes</th>\n",
       "      <th>Genres</th>\n",
       "      <th>Theme(s)</th>\n",
       "      <th>Demographic</th>\n",
       "    </tr>\n",
       "  </thead>\n",
       "  <tbody>\n",
       "    <tr>\n",
       "      <th>0</th>\n",
       "      <td>0</td>\n",
       "      <td>Fullmetal Alchemist: Brotherhood</td>\n",
       "      <td>TV</td>\n",
       "      <td>9.14</td>\n",
       "      <td>1</td>\n",
       "      <td>3</td>\n",
       "      <td>Apr 5, 2009 to Jul 4, 2010</td>\n",
       "      <td>['Bones']</td>\n",
       "      <td>64</td>\n",
       "      <td>['Action', 'Adventure', 'Drama', 'Fantasy']</td>\n",
       "      <td>['Military']</td>\n",
       "      <td>Shounen</td>\n",
       "    </tr>\n",
       "    <tr>\n",
       "      <th>1</th>\n",
       "      <td>1</td>\n",
       "      <td>Spy x Family</td>\n",
       "      <td>TV</td>\n",
       "      <td>9.09</td>\n",
       "      <td>2</td>\n",
       "      <td>350</td>\n",
       "      <td>Apr 9, 2022 to ?</td>\n",
       "      <td>['Wit Studio', '            CloverWorks']</td>\n",
       "      <td>12</td>\n",
       "      <td>['Action', 'Comedy']</td>\n",
       "      <td>['Childcare']</td>\n",
       "      <td>Shounen</td>\n",
       "    </tr>\n",
       "  </tbody>\n",
       "</table>\n",
       "</div>"
      ],
      "text/plain": [
       "   Unnamed: 0                              Name Type  Score  Score Rank  \\\n",
       "0           0  Fullmetal Alchemist: Brotherhood   TV   9.14           1   \n",
       "1           1                      Spy x Family   TV   9.09           2   \n",
       "\n",
       "   Popularity Rank                    Air Date  \\\n",
       "0                3  Apr 5, 2009 to Jul 4, 2010   \n",
       "1              350            Apr 9, 2022 to ?   \n",
       "\n",
       "                                      Studio  Num. of episodes  \\\n",
       "0                                  ['Bones']                64   \n",
       "1  ['Wit Studio', '            CloverWorks']                12   \n",
       "\n",
       "                                        Genres       Theme(s) Demographic  \n",
       "0  ['Action', 'Adventure', 'Drama', 'Fantasy']   ['Military']     Shounen  \n",
       "1                         ['Action', 'Comedy']  ['Childcare']     Shounen  "
      ]
     },
     "execution_count": 5,
     "metadata": {},
     "output_type": "execute_result"
    }
   ],
   "source": [
    "brunobacelardc_myanimelist_top_1000_anime = pd_read_csv(\"dataset/mal_top2000_anime.csv\")\n",
    "brunobacelardc_myanimelist_top_1000_anime.head(2)"
   ]
  }
 ],
 "metadata": {
  "kernelspec": {
   "display_name": "Python 3.9.12 ('machine_learning')",
   "language": "python",
   "name": "python3"
  },
  "language_info": {
   "codemirror_mode": {
    "name": "ipython",
    "version": 3
   },
   "file_extension": ".py",
   "mimetype": "text/x-python",
   "name": "python",
   "nbconvert_exporter": "python",
   "pygments_lexer": "ipython3",
   "version": "3.9.12"
  },
  "orig_nbformat": 4,
  "vscode": {
   "interpreter": {
    "hash": "61d95806a7e6da8dc71ce3f9a9b6b391095a6693cc17cd96f863d0f930c5de41"
   }
  }
 },
 "nbformat": 4,
 "nbformat_minor": 2
}
